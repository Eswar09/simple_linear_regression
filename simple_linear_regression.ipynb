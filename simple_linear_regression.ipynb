{
 "cells": [
  {
   "cell_type": "code",
   "execution_count": 93,
   "id": "84d1f8f3",
   "metadata": {},
   "outputs": [],
   "source": [
    "#importing libraries\n",
    "import numpy as np\n",
    "import pandas as pd\n",
    "import matplotlib.pyplot as plt\n",
    "from sklearn.model_selection import train_test_split\n",
    "from sklearn.linear_model import LinearRegression\n",
    "from sklearn import metrics\n",
    "%matplotlib inline"
   ]
  },
  {
   "cell_type": "code",
   "execution_count": 94,
   "id": "e3f0f5d3",
   "metadata": {},
   "outputs": [],
   "source": [
    "#reading data\n",
    "df=pd.read_csv('advertising.csv')"
   ]
  },
  {
   "cell_type": "code",
   "execution_count": 95,
   "id": "c9ecef5a",
   "metadata": {},
   "outputs": [
    {
     "data": {
      "text/html": [
       "<div>\n",
       "<style scoped>\n",
       "    .dataframe tbody tr th:only-of-type {\n",
       "        vertical-align: middle;\n",
       "    }\n",
       "\n",
       "    .dataframe tbody tr th {\n",
       "        vertical-align: top;\n",
       "    }\n",
       "\n",
       "    .dataframe thead th {\n",
       "        text-align: right;\n",
       "    }\n",
       "</style>\n",
       "<table border=\"1\" class=\"dataframe\">\n",
       "  <thead>\n",
       "    <tr style=\"text-align: right;\">\n",
       "      <th></th>\n",
       "      <th>TV</th>\n",
       "      <th>Radio</th>\n",
       "      <th>Newspaper</th>\n",
       "      <th>Sales</th>\n",
       "    </tr>\n",
       "  </thead>\n",
       "  <tbody>\n",
       "    <tr>\n",
       "      <th>0</th>\n",
       "      <td>230.1</td>\n",
       "      <td>37.8</td>\n",
       "      <td>69.2</td>\n",
       "      <td>22.1</td>\n",
       "    </tr>\n",
       "    <tr>\n",
       "      <th>1</th>\n",
       "      <td>44.5</td>\n",
       "      <td>39.3</td>\n",
       "      <td>45.1</td>\n",
       "      <td>10.4</td>\n",
       "    </tr>\n",
       "    <tr>\n",
       "      <th>2</th>\n",
       "      <td>17.2</td>\n",
       "      <td>45.9</td>\n",
       "      <td>69.3</td>\n",
       "      <td>12.0</td>\n",
       "    </tr>\n",
       "    <tr>\n",
       "      <th>3</th>\n",
       "      <td>151.5</td>\n",
       "      <td>41.3</td>\n",
       "      <td>58.5</td>\n",
       "      <td>16.5</td>\n",
       "    </tr>\n",
       "    <tr>\n",
       "      <th>4</th>\n",
       "      <td>180.8</td>\n",
       "      <td>10.8</td>\n",
       "      <td>58.4</td>\n",
       "      <td>17.9</td>\n",
       "    </tr>\n",
       "    <tr>\n",
       "      <th>5</th>\n",
       "      <td>8.7</td>\n",
       "      <td>48.9</td>\n",
       "      <td>75.0</td>\n",
       "      <td>7.2</td>\n",
       "    </tr>\n",
       "    <tr>\n",
       "      <th>6</th>\n",
       "      <td>57.5</td>\n",
       "      <td>32.8</td>\n",
       "      <td>23.5</td>\n",
       "      <td>11.8</td>\n",
       "    </tr>\n",
       "    <tr>\n",
       "      <th>7</th>\n",
       "      <td>120.2</td>\n",
       "      <td>19.6</td>\n",
       "      <td>11.6</td>\n",
       "      <td>13.2</td>\n",
       "    </tr>\n",
       "    <tr>\n",
       "      <th>8</th>\n",
       "      <td>8.6</td>\n",
       "      <td>2.1</td>\n",
       "      <td>1.0</td>\n",
       "      <td>4.8</td>\n",
       "    </tr>\n",
       "    <tr>\n",
       "      <th>9</th>\n",
       "      <td>199.8</td>\n",
       "      <td>2.6</td>\n",
       "      <td>21.2</td>\n",
       "      <td>15.6</td>\n",
       "    </tr>\n",
       "  </tbody>\n",
       "</table>\n",
       "</div>"
      ],
      "text/plain": [
       "      TV  Radio  Newspaper  Sales\n",
       "0  230.1   37.8       69.2   22.1\n",
       "1   44.5   39.3       45.1   10.4\n",
       "2   17.2   45.9       69.3   12.0\n",
       "3  151.5   41.3       58.5   16.5\n",
       "4  180.8   10.8       58.4   17.9\n",
       "5    8.7   48.9       75.0    7.2\n",
       "6   57.5   32.8       23.5   11.8\n",
       "7  120.2   19.6       11.6   13.2\n",
       "8    8.6    2.1        1.0    4.8\n",
       "9  199.8    2.6       21.2   15.6"
      ]
     },
     "execution_count": 95,
     "metadata": {},
     "output_type": "execute_result"
    }
   ],
   "source": [
    "df.head(10)"
   ]
  },
  {
   "cell_type": "code",
   "execution_count": 96,
   "id": "c89b0a17",
   "metadata": {},
   "outputs": [
    {
     "data": {
      "text/html": [
       "<div>\n",
       "<style scoped>\n",
       "    .dataframe tbody tr th:only-of-type {\n",
       "        vertical-align: middle;\n",
       "    }\n",
       "\n",
       "    .dataframe tbody tr th {\n",
       "        vertical-align: top;\n",
       "    }\n",
       "\n",
       "    .dataframe thead th {\n",
       "        text-align: right;\n",
       "    }\n",
       "</style>\n",
       "<table border=\"1\" class=\"dataframe\">\n",
       "  <thead>\n",
       "    <tr style=\"text-align: right;\">\n",
       "      <th></th>\n",
       "      <th>TV</th>\n",
       "      <th>Radio</th>\n",
       "      <th>Newspaper</th>\n",
       "      <th>Sales</th>\n",
       "    </tr>\n",
       "  </thead>\n",
       "  <tbody>\n",
       "    <tr>\n",
       "      <th>count</th>\n",
       "      <td>200.000000</td>\n",
       "      <td>200.000000</td>\n",
       "      <td>200.000000</td>\n",
       "      <td>200.000000</td>\n",
       "    </tr>\n",
       "    <tr>\n",
       "      <th>mean</th>\n",
       "      <td>147.042500</td>\n",
       "      <td>23.264000</td>\n",
       "      <td>30.554000</td>\n",
       "      <td>15.130500</td>\n",
       "    </tr>\n",
       "    <tr>\n",
       "      <th>std</th>\n",
       "      <td>85.854236</td>\n",
       "      <td>14.846809</td>\n",
       "      <td>21.778621</td>\n",
       "      <td>5.283892</td>\n",
       "    </tr>\n",
       "    <tr>\n",
       "      <th>min</th>\n",
       "      <td>0.700000</td>\n",
       "      <td>0.000000</td>\n",
       "      <td>0.300000</td>\n",
       "      <td>1.600000</td>\n",
       "    </tr>\n",
       "    <tr>\n",
       "      <th>25%</th>\n",
       "      <td>74.375000</td>\n",
       "      <td>9.975000</td>\n",
       "      <td>12.750000</td>\n",
       "      <td>11.000000</td>\n",
       "    </tr>\n",
       "    <tr>\n",
       "      <th>50%</th>\n",
       "      <td>149.750000</td>\n",
       "      <td>22.900000</td>\n",
       "      <td>25.750000</td>\n",
       "      <td>16.000000</td>\n",
       "    </tr>\n",
       "    <tr>\n",
       "      <th>75%</th>\n",
       "      <td>218.825000</td>\n",
       "      <td>36.525000</td>\n",
       "      <td>45.100000</td>\n",
       "      <td>19.050000</td>\n",
       "    </tr>\n",
       "    <tr>\n",
       "      <th>max</th>\n",
       "      <td>296.400000</td>\n",
       "      <td>49.600000</td>\n",
       "      <td>114.000000</td>\n",
       "      <td>27.000000</td>\n",
       "    </tr>\n",
       "  </tbody>\n",
       "</table>\n",
       "</div>"
      ],
      "text/plain": [
       "               TV       Radio   Newspaper       Sales\n",
       "count  200.000000  200.000000  200.000000  200.000000\n",
       "mean   147.042500   23.264000   30.554000   15.130500\n",
       "std     85.854236   14.846809   21.778621    5.283892\n",
       "min      0.700000    0.000000    0.300000    1.600000\n",
       "25%     74.375000    9.975000   12.750000   11.000000\n",
       "50%    149.750000   22.900000   25.750000   16.000000\n",
       "75%    218.825000   36.525000   45.100000   19.050000\n",
       "max    296.400000   49.600000  114.000000   27.000000"
      ]
     },
     "execution_count": 96,
     "metadata": {},
     "output_type": "execute_result"
    }
   ],
   "source": [
    "df.describe()"
   ]
  },
  {
   "cell_type": "code",
   "execution_count": 97,
   "id": "ba73e0c0",
   "metadata": {},
   "outputs": [
    {
     "data": {
      "image/png": "[encoded data removed]",
      "text/plain": [
       "<Figure size 1440x360 with 3 Axes>"
      ]
     },
     "metadata": {
      "needs_background": "light"
     },
     "output_type": "display_data"
    }
   ],
   "source": [
    "#visualisations\n",
    "plt.figure(figsize=(20,5))\n",
    "\n",
    "plt.subplot(1,3,1)\n",
    "plt.scatter(df['TV'],df['Sales'],color='blue')\n",
    "plt.xlabel('TV')\n",
    "plt.ylabel('Sales')\n",
    "\n",
    "\n",
    "plt.subplot(1,3,2)\n",
    "plt.scatter(df['Radio'],df['Sales'],color='red')\n",
    "plt.xlabel('Radio')\n",
    "plt.ylabel('Sales')\n",
    "\n",
    "plt.subplot(1,3,3)\n",
    "plt.scatter(df['Newspaper'],df['Sales'],color='green')\n",
    "plt.xlabel('Newspaper')\n",
    "plt.ylabel('Sales')\n",
    "\n",
    "plt.show()"
   ]
  },
  {
   "cell_type": "code",
   "execution_count": 98,
   "id": "cc358f71",
   "metadata": {},
   "outputs": [],
   "source": [
    "##Taking TV data into modeling"
   ]
  },
  {
   "cell_type": "code",
   "execution_count": 99,
   "id": "a3c7f047",
   "metadata": {},
   "outputs": [],
   "source": [
    "X=df['TV'].values.reshape(-1,1)\n",
    "Y=df['Sales'].values.reshape(-1,1)"
   ]
  },
  {
   "cell_type": "code",
   "execution_count": 100,
   "id": "7551554d",
   "metadata": {},
   "outputs": [
    {
     "data": {
      "text/plain": [
       "(array([[230.1],\n",
       "        [ 44.5],\n",
       "        [ 17.2],\n",
       "        [151.5],\n",
       "        [180.8],\n",
       "        [  8.7],\n",
       "        [ 57.5],\n",
       "        [120.2],\n",
       "        [  8.6],\n",
       "        [199.8],\n",
       "        [ 66.1],\n",
       "        [214.7],\n",
       "        [ 23.8],\n",
       "        [ 97.5],\n",
       "        [204.1],\n",
       "        [195.4],\n",
       "        [ 67.8],\n",
       "        [281.4],\n",
       "        [ 69.2],\n",
       "        [147.3],\n",
       "        [218.4],\n",
       "        [237.4],\n",
       "        [ 13.2],\n",
       "        [228.3],\n",
       "        [ 62.3],\n",
       "        [262.9],\n",
       "        [142.9],\n",
       "        [240.1],\n",
       "        [248.8],\n",
       "        [ 70.6],\n",
       "        [292.9],\n",
       "        [112.9],\n",
       "        [ 97.2],\n",
       "        [265.6],\n",
       "        [ 95.7],\n",
       "        [290.7],\n",
       "        [266.9],\n",
       "        [ 74.7],\n",
       "        [ 43.1],\n",
       "        [228. ],\n",
       "        [202.5],\n",
       "        [177. ],\n",
       "        [293.6],\n",
       "        [206.9],\n",
       "        [ 25.1],\n",
       "        [175.1],\n",
       "        [ 89.7],\n",
       "        [239.9],\n",
       "        [227.2],\n",
       "        [ 66.9],\n",
       "        [199.8],\n",
       "        [100.4],\n",
       "        [216.4],\n",
       "        [182.6],\n",
       "        [262.7],\n",
       "        [198.9],\n",
       "        [  7.3],\n",
       "        [136.2],\n",
       "        [210.8],\n",
       "        [210.7],\n",
       "        [ 53.5],\n",
       "        [261.3],\n",
       "        [239.3],\n",
       "        [102.7],\n",
       "        [131.1],\n",
       "        [ 69. ],\n",
       "        [ 31.5],\n",
       "        [139.3],\n",
       "        [237.4],\n",
       "        [216.8],\n",
       "        [199.1],\n",
       "        [109.8],\n",
       "        [ 26.8],\n",
       "        [129.4],\n",
       "        [213.4],\n",
       "        [ 16.9],\n",
       "        [ 27.5],\n",
       "        [120.5],\n",
       "        [  5.4],\n",
       "        [116. ],\n",
       "        [ 76.4],\n",
       "        [239.8],\n",
       "        [ 75.3],\n",
       "        [ 68.4],\n",
       "        [213.5],\n",
       "        [193.2],\n",
       "        [ 76.3],\n",
       "        [110.7],\n",
       "        [ 88.3],\n",
       "        [109.8],\n",
       "        [134.3],\n",
       "        [ 28.6],\n",
       "        [217.7],\n",
       "        [250.9],\n",
       "        [107.4],\n",
       "        [163.3],\n",
       "        [197.6],\n",
       "        [184.9],\n",
       "        [289.7],\n",
       "        [135.2],\n",
       "        [222.4],\n",
       "        [296.4],\n",
       "        [280.2],\n",
       "        [187.9],\n",
       "        [238.2],\n",
       "        [137.9],\n",
       "        [ 25. ],\n",
       "        [ 90.4],\n",
       "        [ 13.1],\n",
       "        [255.4],\n",
       "        [225.8],\n",
       "        [241.7],\n",
       "        [175.7],\n",
       "        [209.6],\n",
       "        [ 78.2],\n",
       "        [ 75.1],\n",
       "        [139.2],\n",
       "        [ 76.4],\n",
       "        [125.7],\n",
       "        [ 19.4],\n",
       "        [141.3],\n",
       "        [ 18.8],\n",
       "        [224. ],\n",
       "        [123.1],\n",
       "        [229.5],\n",
       "        [ 87.2],\n",
       "        [  7.8],\n",
       "        [ 80.2],\n",
       "        [220.3],\n",
       "        [ 59.6],\n",
       "        [  0.7],\n",
       "        [265.2],\n",
       "        [  8.4],\n",
       "        [219.8],\n",
       "        [ 36.9],\n",
       "        [ 48.3],\n",
       "        [ 25.6],\n",
       "        [273.7],\n",
       "        [ 43. ],\n",
       "        [184.9],\n",
       "        [ 73.4],\n",
       "        [193.7],\n",
       "        [220.5],\n",
       "        [104.6],\n",
       "        [ 96.2],\n",
       "        [140.3],\n",
       "        [240.1],\n",
       "        [243.2],\n",
       "        [ 38. ],\n",
       "        [ 44.7],\n",
       "        [280.7],\n",
       "        [121. ],\n",
       "        [197.6],\n",
       "        [171.3],\n",
       "        [187.8],\n",
       "        [  4.1],\n",
       "        [ 93.9],\n",
       "        [149.8],\n",
       "        [ 11.7],\n",
       "        [131.7],\n",
       "        [172.5],\n",
       "        [ 85.7],\n",
       "        [188.4],\n",
       "        [163.5],\n",
       "        [117.2],\n",
       "        [234.5],\n",
       "        [ 17.9],\n",
       "        [206.8],\n",
       "        [215.4],\n",
       "        [284.3],\n",
       "        [ 50. ],\n",
       "        [164.5],\n",
       "        [ 19.6],\n",
       "        [168.4],\n",
       "        [222.4],\n",
       "        [276.9],\n",
       "        [248.4],\n",
       "        [170.2],\n",
       "        [276.7],\n",
       "        [165.6],\n",
       "        [156.6],\n",
       "        [218.5],\n",
       "        [ 56.2],\n",
       "        [287.6],\n",
       "        [253.8],\n",
       "        [205. ],\n",
       "        [139.5],\n",
       "        [191.1],\n",
       "        [286. ],\n",
       "        [ 18.7],\n",
       "        [ 39.5],\n",
       "        [ 75.5],\n",
       "        [ 17.2],\n",
       "        [166.8],\n",
       "        [149.7],\n",
       "        [ 38.2],\n",
       "        [ 94.2],\n",
       "        [177. ],\n",
       "        [283.6],\n",
       "        [232.1]]),\n",
       " array([[22.1],\n",
       "        [10.4],\n",
       "        [12. ],\n",
       "        [16.5],\n",
       "        [17.9],\n",
       "        [ 7.2],\n",
       "        [11.8],\n",
       "        [13.2],\n",
       "        [ 4.8],\n",
       "        [15.6],\n",
       "        [12.6],\n",
       "        [17.4],\n",
       "        [ 9.2],\n",
       "        [13.7],\n",
       "        [19. ],\n",
       "        [22.4],\n",
       "        [12.5],\n",
       "        [24.4],\n",
       "        [11.3],\n",
       "        [14.6],\n",
       "        [18. ],\n",
       "        [17.5],\n",
       "        [ 5.6],\n",
       "        [20.5],\n",
       "        [ 9.7],\n",
       "        [17. ],\n",
       "        [15. ],\n",
       "        [20.9],\n",
       "        [18.9],\n",
       "        [10.5],\n",
       "        [21.4],\n",
       "        [11.9],\n",
       "        [13.2],\n",
       "        [17.4],\n",
       "        [11.9],\n",
       "        [17.8],\n",
       "        [25.4],\n",
       "        [14.7],\n",
       "        [10.1],\n",
       "        [21.5],\n",
       "        [16.6],\n",
       "        [17.1],\n",
       "        [20.7],\n",
       "        [17.9],\n",
       "        [ 8.5],\n",
       "        [16.1],\n",
       "        [10.6],\n",
       "        [23.2],\n",
       "        [19.8],\n",
       "        [ 9.7],\n",
       "        [16.4],\n",
       "        [10.7],\n",
       "        [22.6],\n",
       "        [21.2],\n",
       "        [20.2],\n",
       "        [23.7],\n",
       "        [ 5.5],\n",
       "        [13.2],\n",
       "        [23.8],\n",
       "        [18.4],\n",
       "        [ 8.1],\n",
       "        [24.2],\n",
       "        [20.7],\n",
       "        [14. ],\n",
       "        [16. ],\n",
       "        [11.3],\n",
       "        [11. ],\n",
       "        [13.4],\n",
       "        [18.9],\n",
       "        [22.3],\n",
       "        [18.3],\n",
       "        [12.4],\n",
       "        [ 8.8],\n",
       "        [11. ],\n",
       "        [17. ],\n",
       "        [ 8.7],\n",
       "        [ 6.9],\n",
       "        [14.2],\n",
       "        [ 5.3],\n",
       "        [11. ],\n",
       "        [11.8],\n",
       "        [17.3],\n",
       "        [11.3],\n",
       "        [13.6],\n",
       "        [21.7],\n",
       "        [20.2],\n",
       "        [12. ],\n",
       "        [16. ],\n",
       "        [12.9],\n",
       "        [16.7],\n",
       "        [14. ],\n",
       "        [ 7.3],\n",
       "        [19.4],\n",
       "        [22.2],\n",
       "        [11.5],\n",
       "        [16.9],\n",
       "        [16.7],\n",
       "        [20.5],\n",
       "        [25.4],\n",
       "        [17.2],\n",
       "        [16.7],\n",
       "        [23.8],\n",
       "        [19.8],\n",
       "        [19.7],\n",
       "        [20.7],\n",
       "        [15. ],\n",
       "        [ 7.2],\n",
       "        [12. ],\n",
       "        [ 5.3],\n",
       "        [19.8],\n",
       "        [18.4],\n",
       "        [21.8],\n",
       "        [17.1],\n",
       "        [20.9],\n",
       "        [14.6],\n",
       "        [12.6],\n",
       "        [12.2],\n",
       "        [ 9.4],\n",
       "        [15.9],\n",
       "        [ 6.6],\n",
       "        [15.5],\n",
       "        [ 7. ],\n",
       "        [16.6],\n",
       "        [15.2],\n",
       "        [19.7],\n",
       "        [10.6],\n",
       "        [ 6.6],\n",
       "        [11.9],\n",
       "        [24.7],\n",
       "        [ 9.7],\n",
       "        [ 1.6],\n",
       "        [17.7],\n",
       "        [ 5.7],\n",
       "        [19.6],\n",
       "        [10.8],\n",
       "        [11.6],\n",
       "        [ 9.5],\n",
       "        [20.8],\n",
       "        [ 9.6],\n",
       "        [20.7],\n",
       "        [10.9],\n",
       "        [19.2],\n",
       "        [20.1],\n",
       "        [10.4],\n",
       "        [12.3],\n",
       "        [10.3],\n",
       "        [18.2],\n",
       "        [25.4],\n",
       "        [10.9],\n",
       "        [10.1],\n",
       "        [16.1],\n",
       "        [11.6],\n",
       "        [16.6],\n",
       "        [16. ],\n",
       "        [20.6],\n",
       "        [ 3.2],\n",
       "        [15.3],\n",
       "        [10.1],\n",
       "        [ 7.3],\n",
       "        [12.9],\n",
       "        [16.4],\n",
       "        [13.3],\n",
       "        [19.9],\n",
       "        [18. ],\n",
       "        [11.9],\n",
       "        [16.9],\n",
       "        [ 8. ],\n",
       "        [17.2],\n",
       "        [17.1],\n",
       "        [20. ],\n",
       "        [ 8.4],\n",
       "        [17.5],\n",
       "        [ 7.6],\n",
       "        [16.7],\n",
       "        [16.5],\n",
       "        [27. ],\n",
       "        [20.2],\n",
       "        [16.7],\n",
       "        [16.8],\n",
       "        [17.6],\n",
       "        [15.5],\n",
       "        [17.2],\n",
       "        [ 8.7],\n",
       "        [26.2],\n",
       "        [17.6],\n",
       "        [22.6],\n",
       "        [10.3],\n",
       "        [17.3],\n",
       "        [20.9],\n",
       "        [ 6.7],\n",
       "        [10.8],\n",
       "        [11.9],\n",
       "        [ 5.9],\n",
       "        [19.6],\n",
       "        [17.3],\n",
       "        [ 7.6],\n",
       "        [14. ],\n",
       "        [14.8],\n",
       "        [25.5],\n",
       "        [18.4]]))"
      ]
     },
     "execution_count": 100,
     "metadata": {},
     "output_type": "execute_result"
    }
   ],
   "source": [
    "X,Y"
   ]
  },
  {
   "cell_type": "code",
   "execution_count": 101,
   "id": "ae1070a7",
   "metadata": {},
   "outputs": [],
   "source": [
    "#spliting data into train and test datasets\n",
    "X_train, X_test, y_train, y_test=train_test_split(X,Y,test_size=0.2,random_state=0)"
   ]
  },
  {
   "cell_type": "code",
   "execution_count": 102,
   "id": "03e7ef5b",
   "metadata": {},
   "outputs": [
    {
     "data": {
      "text/plain": [
       "LinearRegression()"
      ]
     },
     "execution_count": 102,
     "metadata": {},
     "output_type": "execute_result"
    }
   ],
   "source": [
    "#fitting linear regression\n",
    "Model=LinearRegression()\n",
    "Model.fit(X_train,y_train)"
   ]
  },
  {
   "cell_type": "code",
   "execution_count": 103,
   "id": "dc59dbfa",
   "metadata": {},
   "outputs": [],
   "source": [
    "train_fit=Model.predict(X_train)\n",
    "test_pred=Model.predict(X_test)"
   ]
  },
  {
   "cell_type": "code",
   "execution_count": 104,
   "id": "c3cc0a52",
   "metadata": {},
   "outputs": [
    {
     "data": {
      "image/png": "[encoded data removed]",
      "text/plain": [
       "<Figure size 1080x432 with 2 Axes>"
      ]
     },
     "metadata": {
      "needs_background": "light"
     },
     "output_type": "display_data"
    }
   ],
   "source": [
    "plt.figure(figsize=(15,6))\n",
    "\n",
    "plt.subplot(1,2,1)\n",
    "plt.scatter(X_train,y_train,color='gray')\n",
    "plt.plot(X_train,train_fit,color='blue')\n",
    "plt.xlabel('TV')\n",
    "plt.ylabel('Sales')\n",
    "\n",
    "plt.subplot(1,2,2)\n",
    "plt.scatter(X_test,y_test,color='grey')\n",
    "plt.plot(X_test,test_pred,color='red')\n",
    "plt.xlabel('TV')\n",
    "plt.ylabel('Sales')\n",
    "\n",
    "plt.show()\n"
   ]
  },
  {
   "cell_type": "code",
   "execution_count": 105,
   "id": "f412a948",
   "metadata": {},
   "outputs": [
    {
     "name": "stdout",
     "output_type": "stream",
     "text": [
      "[7.16227597]\n",
      "[[0.0544343]]\n"
     ]
    }
   ],
   "source": [
    "#To print the value of Intercept:\n",
    "print(Model.intercept_)\n",
    "\n",
    "# To print the value of x-coefficient or slope:\n",
    "print(Model.coef_)"
   ]
  },
  {
   "cell_type": "markdown",
   "id": "8b949f15",
   "metadata": {},
   "source": [
    "### Error analysis"
   ]
  },
  {
   "cell_type": "code",
   "execution_count": 106,
   "id": "e621920c",
   "metadata": {},
   "outputs": [
    {
     "data": {
      "text/plain": [
       "Text(0, 25, 'The length of vertical line  represants \\nthe difference how much the actual sales n\\nfrom predicted sales')"
      ]
     },
     "execution_count": 106,
     "metadata": {},
     "output_type": "execute_result"
    },
    {
     "data": {
      "image/png": "[encoded data removed]",
      "text/plain": [
       "<Figure size 720x504 with 1 Axes>"
      ]
     },
     "metadata": {
      "needs_background": "light"
     },
     "output_type": "display_data"
    }
   ],
   "source": [
    "plt.figure(figsize=(10,7))\n",
    "plt.scatter(X_train,y_train,color='firebrick',s=20)\n",
    "plt.plot(X_train,train_fit,color='royalblue',linewidth='0.7')\n",
    "for i in range(X_train.shape[0]):\n",
    "    plt.plot([X_train[i],X_train[i]],[y_train[i],train_fit[i]],color='black',linewidth='0.5')\n",
    "plt.xlabel('TV')\n",
    "plt.ylabel('Sales')\n",
    "plt.text(0,25,\"The length of vertical line  represants \\nthe difference how much the actual sales n\\nfrom predicted sales\")"
   ]
  },
  {
   "cell_type": "code",
   "execution_count": 107,
   "id": "3685e894",
   "metadata": {},
   "outputs": [
    {
     "name": "stdout",
     "output_type": "stream",
     "text": [
      "Mean Squared Error: 6.6390912265593\n"
     ]
    }
   ],
   "source": [
    "print('Mean Squared Error:',metrics.mean_squared_error(y_test,test_pred))"
   ]
  },
  {
   "cell_type": "code",
   "execution_count": 108,
   "id": "59e368ef",
   "metadata": {},
   "outputs": [
    {
     "name": "stdout",
     "output_type": "stream",
     "text": [
      "Root Mean Square Error: 2.576643403065178\n"
     ]
    }
   ],
   "source": [
    "print('Root Mean Square Error:',np.sqrt(metrics.mean_squared_error(y_test,test_pred)))"
   ]
  },
  {
   "cell_type": "code",
   "execution_count": 109,
   "id": "4337721f",
   "metadata": {},
   "outputs": [
    {
     "name": "stdout",
     "output_type": "stream",
     "text": [
      "Mean Absolute Error: 2.014867314759479\n"
     ]
    }
   ],
   "source": [
    "print('Mean Absolute Error:', metrics.mean_absolute_error(y_test, test_pred))"
   ]
  },
  {
   "cell_type": "code",
   "execution_count": 111,
   "id": "0637e85f",
   "metadata": {},
   "outputs": [
    {
     "name": "stdout",
     "output_type": "stream",
     "text": [
      "Mean Squared Error: 6.6390912265593\n",
      "Root Mean Squared Error: 2.576643403065178\n",
      "Mean Absolute Error: 2.014867314759479\n"
     ]
    }
   ],
   "source": [
    "print('Mean Squared Error:', metrics.mean_squared_error(y_test, test_pred))  \n",
    "print('Root Mean Squared Error:', np.sqrt(metrics.mean_squared_error(y_test, test_pred)))\n",
    "print('Mean Absolute Error:', metrics.mean_absolute_error(y_test, test_pred))"
   ]
  },
  {
   "cell_type": "code",
   "execution_count": 112,
   "id": "47fb2218",
   "metadata": {},
   "outputs": [],
   "source": [
    "X_radio=df['Radio'].values.reshape(-1,1)\n",
    "Y_radio=df['Sales'].values.reshape(-1,1)"
   ]
  },
  {
   "cell_type": "code",
   "execution_count": 113,
   "id": "e4f212af",
   "metadata": {},
   "outputs": [],
   "source": [
    "#spliting data into train and test datasets\n",
    "X_radio_train, X_radio_test, y_radio_train, y_radio_test=train_test_split(X_radio,Y_radio,test_size=0.2,random_state=0)"
   ]
  },
  {
   "cell_type": "code",
   "execution_count": 117,
   "id": "b4ecc43b",
   "metadata": {},
   "outputs": [
    {
     "data": {
      "text/plain": [
       "LinearRegression()"
      ]
     },
     "execution_count": 117,
     "metadata": {},
     "output_type": "execute_result"
    }
   ],
   "source": [
    "#fitting linear regression\n",
    "Model=LinearRegression()\n",
    "Model.fit(X_radio_train,y_radio_train)"
   ]
  },
  {
   "cell_type": "code",
   "execution_count": 118,
   "id": "fefd869b",
   "metadata": {},
   "outputs": [],
   "source": [
    "train_fit_radio=Model.predict(X_radio_train)\n",
    "test_pred_radio=Model.predict(X_radio_test)"
   ]
  },
  {
   "cell_type": "code",
   "execution_count": 119,
   "id": "680b7680",
   "metadata": {},
   "outputs": [
    {
     "data": {
      "image/png": "[encoded data removed]",
      "text/plain": [
       "<Figure size 1080x432 with 2 Axes>"
      ]
     },
     "metadata": {
      "needs_background": "light"
     },
     "output_type": "display_data"
    }
   ],
   "source": [
    "plt.figure(figsize=(15,6))\n",
    "\n",
    "plt.subplot(1,2,1)\n",
    "plt.scatter(X_radio_train,y_radio_train,color='gray')\n",
    "plt.plot(X_radio_train,train_fit_radio,color='blue')\n",
    "plt.xlabel('Radio')\n",
    "plt.ylabel('Sales')\n",
    "\n",
    "plt.subplot(1,2,2)\n",
    "plt.scatter(X_radio_test,y_radio_test,color='grey')\n",
    "plt.plot(X_radio_test,test_pred_radio,color='red')\n",
    "plt.xlabel('Radio')\n",
    "plt.ylabel('Sales')\n",
    "plt.show()\n"
   ]
  },
  {
   "cell_type": "code",
   "execution_count": 120,
   "id": "4677fc6f",
   "metadata": {},
   "outputs": [
    {
     "name": "stdout",
     "output_type": "stream",
     "text": [
      "[12.46701094]\n",
      "[[0.12350772]]\n"
     ]
    }
   ],
   "source": [
    "#To print the value of Intercept:\n",
    "print(Model.intercept_)\n",
    "\n",
    "# To print the value of x-coefficient or slope:\n",
    "print(Model.coef_)"
   ]
  },
  {
   "cell_type": "code",
   "execution_count": null,
   "id": "646d3562",
   "metadata": {},
   "outputs": [],
   "source": []
  }
 ],
 "metadata": {
  "kernelspec": {
   "display_name": "Python 3",
   "language": "python",
   "name": "python3"
  },
  "language_info": {
   "codemirror_mode": {
    "name": "ipython",
    "version": 3
   },
   "file_extension": ".py",
   "mimetype": "text/x-python",
   "name": "python",
   "nbconvert_exporter": "python",
   "pygments_lexer": "ipython3",
   "version": "3.8.8"
  }
 },
 "nbformat": 4,
 "nbformat_minor": 5
}
